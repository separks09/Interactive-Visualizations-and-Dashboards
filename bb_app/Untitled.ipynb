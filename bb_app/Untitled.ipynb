{
 "cells": [
  {
   "cell_type": "code",
   "execution_count": 2,
   "metadata": {},
   "outputs": [],
   "source": [
    "#Import dependencies\n",
    "\n",
    "#Enigine/Session\n",
    "import sqlalchemy\n",
    "from sqlalchemy.ext.automap import automap_base\n",
    "from sqlalchemy.orm import Session\n",
    "from sqlalchemy import create_engine, inspect, func, text\n",
    "from sqlalchemy.orm import query_expression"
   ]
  },
  {
   "cell_type": "code",
   "execution_count": 3,
   "metadata": {},
   "outputs": [],
   "source": [
    "#Create engine\n",
    "engine = create_engine(\"sqlite:///belly_button_biodiversity.sqlite\", echo=False)"
   ]
  },
  {
   "cell_type": "code",
   "execution_count": 4,
   "metadata": {},
   "outputs": [
    {
     "data": {
      "text/plain": [
       "['otu', 'samples', 'samples_metadata']"
      ]
     },
     "execution_count": 4,
     "metadata": {},
     "output_type": "execute_result"
    }
   ],
   "source": [
    "# Reflect Database into ORM classes\n",
    "Base = automap_base()\n",
    "Base.prepare(engine, reflect=True)\n",
    "Base.classes.keys()"
   ]
  },
  {
   "cell_type": "code",
   "execution_count": 5,
   "metadata": {},
   "outputs": [],
   "source": [
    "# Map Otu class\n",
    "Otu = Base.classes.otu\n",
    "\n",
    "# Map Samples class\n",
    "Samples = Base.classes.samples\n",
    "\n",
    "#Map Metadata class\n",
    "Metadata = Base.classes.samples_metadata\n",
    "\n",
    "# create a session\n",
    "session = Session(engine)"
   ]
  },
  {
   "cell_type": "code",
   "execution_count": 6,
   "metadata": {},
   "outputs": [],
   "source": [
    "# Get column names\n",
    "data = Samples.__table__.columns.keys()\n",
    "\n",
    "# Convert into list, then into JSON\n",
    "all_otu_ids = []\n",
    "for x in range(len(data)):\n",
    "    if x > 0:\n",
    "        name = str(data[x]).split(\",\")[0].split(\"[\")[0]\n",
    "        all_otu_ids.append(name)\n",
    "        \n",
    "    #return jsonify(all_otu_ids)"
   ]
  },
  {
   "cell_type": "code",
   "execution_count": 7,
   "metadata": {},
   "outputs": [],
   "source": [
    "# Query database for descriptions of otus\n",
    "data2 = session.query(Otu.lowest_taxonomic_unit_found).all() \n",
    "\n",
    "# Convert into list, then into JSON\n",
    "all_otu_descriptions = []\n",
    "for x in range(len(data2)):\n",
    "    description = str(data2[x]).split(\",\")[0].split(\"(\")[1].split(\"'\")[1]\n",
    "    all_otu_descriptions.append(description)\n",
    "    \n",
    "    #return jsonify(all_otu_descriptions)"
   ]
  },
  {
   "cell_type": "code",
   "execution_count": 8,
   "metadata": {},
   "outputs": [
    {
     "name": "stdout",
     "output_type": "stream",
     "text": [
      "Select a sample from available sample names: BB_952\n"
     ]
    }
   ],
   "source": [
    "input_id = input(\"Select a sample from available sample names: \")\n",
    "input_id_number = input_id.split(\"_\")[1]"
   ]
  },
  {
   "cell_type": "code",
   "execution_count": 12,
   "metadata": {},
   "outputs": [],
   "source": [
    "# Prepare a variable for iterating\n",
    "Metadata_keys = Metadata.__table__.columns.keys()\n",
    "\n",
    "# Switch to SQL for a cleaner query than SQLAlchemy function provided\n",
    "\n",
    "# Raw SQL\n",
    "sql = text(f'SELECT * FROM samples_metadata WHERE (SAMPLEID = {input_id_number})')\n",
    "\n",
    "# Create connection and execute SQL\n",
    "connection = engine.connect()\n",
    "result = connection.execute(sql)\n",
    "\n",
    "# Convert list of tuples into a dictionary, then into JSON\n",
    "all_sample_data = []\n",
    "for row in result:\n",
    "    # Create didctionary\n",
    "    sample_dict = {}\n",
    "    for x in range(len(row)):\n",
    "        # Convert query return into keys and values\n",
    "        sample_dict[Metadata_keys[x]] = row[x]\n",
    "\n",
    "    # Append dictionary instance into list\n",
    "    all_sample_data.append(sample_dict)\n",
    "        \n",
    "#Close connection\n",
    "connection.close()\n",
    "\n",
    "#Convert to JSON\n",
    "#return jsonify(all_sample_data)"
   ]
  },
  {
   "cell_type": "code",
   "execution_count": 357,
   "metadata": {},
   "outputs": [],
   "source": [
    "# Use SQL for a cleaner query than SQLAlchemy function provided\n",
    "\n",
    "# Raw SQL\n",
    "sql2 = text(f'SELECT WFREQ FROM samples_metadata WHERE (SAMPLEID = {input_id_number})')\n",
    "# Create connection and execute SQL\n",
    "\n",
    "connection = engine.connect()\n",
    "result = connection.execute(sql2)\n",
    "\n",
    "# Convert returns to a list, then a dictionary, then into JSON\n",
    "wash_freq = []\n",
    "\n",
    "for row in result:\n",
    "    wash_dict = {}\n",
    "    wash_dict[\"wash_frequency\"] = row[0]\n",
    "    wash_freq.append(wash_dict)\n",
    "        \n",
    "#Close connection\n",
    "connection.close()\n",
    "\n",
    "#Convert to JSON\n",
    "#return jsonify(wash_freq)"
   ]
  },
  {
   "cell_type": "code",
   "execution_count": 360,
   "metadata": {},
   "outputs": [],
   "source": [
    "# Use SQL for a cleaner query than SQLAlchemy function provided\n",
    "\n",
    "# Raw SQL\n",
    "sql3 = text(f'SELECT otu_id, {input_id} FROM samples ORDER BY {input_id} DESC')\n",
    "# Create connection and execute SQL\n",
    "\n",
    "connection = engine.connect()\n",
    "result = connection.execute(sql3)\n",
    "\n",
    "# Convert returns to lists, then a dictionary, then into JSON\n",
    "all_otu_in_sample = []\n",
    "otu_ids = []\n",
    "sample_values = []\n",
    "\n",
    "for row in result:\n",
    "    otu_ids.append(row[0])\n",
    "    sample_values.append(row[1])\n",
    "    \n",
    "# Create dictionary\n",
    "otu_dict = {}\n",
    "    \n",
    "# Convert query return into keys and values\n",
    "otu_dict[\"otu_ids\"] = otu_ids\n",
    "otu_dict[\"sample_values\"] = sample_values\n",
    "    \n",
    "# Append dictionary instance into list\n",
    "all_otu_in_sample.append(otu_dict)\n",
    "        \n",
    "#Close connection\n",
    "connection.close()\n",
    "\n",
    "#Convert to JSON\n",
    "#return jsonify(all_otu_in_sample)"
   ]
  }
 ],
 "metadata": {
  "kernelspec": {
   "display_name": "Python 3",
   "language": "python",
   "name": "python3"
  },
  "language_info": {
   "codemirror_mode": {
    "name": "ipython",
    "version": 3
   },
   "file_extension": ".py",
   "mimetype": "text/x-python",
   "name": "python",
   "nbconvert_exporter": "python",
   "pygments_lexer": "ipython3",
   "version": "3.6.4"
  }
 },
 "nbformat": 4,
 "nbformat_minor": 2
}
